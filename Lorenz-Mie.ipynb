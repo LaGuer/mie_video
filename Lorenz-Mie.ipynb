{
 "cells": [
  {
   "cell_type": "markdown",
   "metadata": {},
   "source": [
    "# Lorenz-Mie theory applied holography in microscopy\n",
    "\n",
    "The following pages outline an introduction to Digital holography in microscopy. In particular, it should form the basis for a self-paced course."
   ]
  },
  {
   "cell_type": "markdown",
   "metadata": {},
   "source": [
    "The [opening page](00-first-steps.html), mostly introduces how to install the software, and how to think about the course.\n",
    "\n",
    "The essential sections of the course are on\n",
    "\n",
    "* [the basics](01-python-basics.html)\n",
    "* [Learning Holography](https://laguer.github.io/learn-holography)\n",
    "* [Laser-interferometry](https://mybinder.org/v2/gh/LaGuer/laser-interferometry/master/)\n",
    "* [Digital Holography](https://github.com/LaGuer/Digital-Holography).\n",
    "\n",
    "The [next page introduces new classes](05-newclasses.html), which should at least be started to get the most out of the rest. We then have three important sections on\n",
    "\n",
    "* [medical Holography](https://github.com/LaGuer/medicalHolography)\n",
    "* [holographic microscopy videos using Lorenz-Mie Theory](https://github.com/LaGuer/mie_video)\n",
    "* [digital-holographic-microscopy](https://github.com/LaGuer/digital-holographic-microscopy).\n",
    "\n",
    "Finally, there is one \"appendix\" on\n",
    "\n",
    "* [testing](09-exceptions-testing.html)\n"
   ]
  },
  {
   "cell_type": "markdown",
   "metadata": {},
   "source": [
    "The [PDF notes](https://github.com/LaGuer/digital-holographic-microscopy/tree/master/pdf) also contain a section introducing $\\LaTeX$."
   ]
  },
  {
   "cell_type": "markdown",
   "metadata": {},
   "source": [
    "This material is [hosted on GitHub](https://github.com/LaGuer/digital-holographic-microscopy)."
   ]
  },
  {
   "cell_type": "markdown",
   "metadata": {},
   "source": [
    "There are [solutions to all the exercises available](ExercisesSolutions.ipynb)."
   ]
  }
 ],
 "metadata": {
  "kernelspec": {
   "display_name": "Python 3",
   "language": "python",
   "name": "python3"
  },
  "language_info": {
   "codemirror_mode": {
    "name": "ipython",
    "version": 3
   },
   "file_extension": ".py",
   "mimetype": "text/x-python",
   "name": "python",
   "nbconvert_exporter": "python",
   "pygments_lexer": "ipython3",
   "version": "3.4.4"
  },
  "nbconvert": {
   "title": "Maths with Python"
  }
 },
 "nbformat": 4,
 "nbformat_minor": 0
}
